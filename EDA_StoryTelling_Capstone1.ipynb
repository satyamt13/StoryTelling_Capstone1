{
 "cells": [
  {
   "cell_type": "markdown",
   "metadata": {},
   "source": [
    "## W.  Wrangling The Pronto Cycle Share datasets"
   ]
  },
  {
   "cell_type": "markdown",
   "metadata": {},
   "source": [
    "### W. 1 Reading in the datasets"
   ]
  },
  {
   "cell_type": "markdown",
   "metadata": {},
   "source": [
    "The Pronto Seattle cycle share data is available in 3 separate CSV files.\n",
    "1. Station.csv contains data about the 58 Pronto cycle docks around Seattle - https://www.kaggle.com/pronto/cycle-share-dataset/data\n",
    "2. Trip.csv contains data about every trip taken using the Pronto Cycle share system in Seattle from 2014 to 2016 - https://www.kaggle.com/pronto/cycle-share-dataset/data\n",
    "3. Weather.csv contains data about the weather in Seattle that corresponds to the dates of the recorded trips in Seattle in the Trip.csv file - https://www.kaggle.com/pronto/cycle-share-dataset/data\n",
    "\n",
    "Each of the 3 CSV files have been read into separate pandas dataframes. \n",
    "\n",
    "The CSV files are freely available to anyone who wants to use them on Kaggle Datasets - https://www.kaggle.com/datasets"
   ]
  },
  {
   "cell_type": "code",
   "execution_count": 166,
   "metadata": {},
   "outputs": [
    {
     "name": "stderr",
     "output_type": "stream",
     "text": [
      "b'Skipping line 50794: expected 12 fields, saw 20\\n'\n"
     ]
    }
   ],
   "source": [
    "import pandas as pd\n",
    "\n",
    "#Importing and reading csv files directly into pandas dataframe\n",
    "\n",
    "station_data = pd.read_csv('/Users/sam/Data Science/Datasets/station.csv')\n",
    "\n",
    "trip_data = pd.read_csv('/Users/sam/Data Science/Datasets/trip.csv', error_bad_lines=False)\n",
    "\n",
    "weather_data = pd.read_csv('/Users/sam/Data Science/Datasets/weather.csv')"
   ]
  },
  {
   "cell_type": "markdown",
   "metadata": {},
   "source": [
    "**Note: The trip.csv file contained a corrupted line which had to be skipped for the data to be successfully read into pandas DataFrame**"
   ]
  },
  {
   "cell_type": "markdown",
   "metadata": {},
   "source": [
    "### W.2 Cleaning the Station Data Set \n"
   ]
  },
  {
   "cell_type": "code",
   "execution_count": 168,
   "metadata": {
    "scrolled": false
   },
   "outputs": [
    {
     "name": "stdout",
     "output_type": "stream",
     "text": [
      "<class 'pandas.core.frame.DataFrame'>\n",
      "RangeIndex: 58 entries, 0 to 57\n",
      "Data columns (total 9 columns):\n",
      "station_id           58 non-null object\n",
      "name                 58 non-null object\n",
      "lat                  58 non-null float64\n",
      "long                 58 non-null float64\n",
      "install_date         58 non-null object\n",
      "install_dockcount    58 non-null int64\n",
      "modification_date    17 non-null object\n",
      "current_dockcount    58 non-null int64\n",
      "decommission_date    4 non-null object\n",
      "dtypes: float64(2), int64(2), object(5)\n",
      "memory usage: 4.2+ KB\n"
     ]
    }
   ],
   "source": [
    "#Information about the various colums in the station_data DataFrame\n",
    "station_data.info()"
   ]
  },
  {
   "cell_type": "markdown",
   "metadata": {},
   "source": [
    " - **The station dataset contains a column for modification_date of a station which contains the date on which the station dock was modified to hold more or less cycles and null values if the station was never modified after it was initially set up. I will drop this column entirely as it contains only 17 non_null values and does not provide us with information that would be useful for our analysis.**\n",
    "\n",
    "\n",
    "- **The dataset also contains an install_dockcount column which contains the cycle holding capacity of the dock at a station when it was initially set up and the current_dockcount column holds the current cycle holding capacity of a dock at a station. The current_dockcount and the install_dockcount values for a station are the same if it was never modified. Since we are only interested in current values for all stations, I will drop the install_dockcount column entirely.**\n",
    "\n",
    "\n",
    "- **4 out of the 58 stations in Seattle have been decommsioned and are no longer active. I will drop these decommisioned stations from the dataset , to work with only the active stations which also makes the decommissoned_date column unecessary for our analysis and I will be able to drop it as well.**"
   ]
  },
  {
   "cell_type": "code",
   "execution_count": 169,
   "metadata": {},
   "outputs": [],
   "source": [
    "#Dropping the modification_date and install_dockcount columns from the dataset\n",
    "station_data = station_data.drop(['modification_date','install_dockcount'],axis=1)"
   ]
  },
  {
   "cell_type": "code",
   "execution_count": 170,
   "metadata": {},
   "outputs": [],
   "source": [
    "#Extracting only those stations that were not decommisoned during the time this data was collected\n",
    "active_stations = station_data['decommission_date'].isnull()\n",
    "station_data = station_data.loc[active_stations]"
   ]
  },
  {
   "cell_type": "code",
   "execution_count": 171,
   "metadata": {
    "collapsed": true
   },
   "outputs": [],
   "source": [
    "#Dropping the decommision_date column from the station_data DataFrame \n",
    "station_data = station_data.drop(['decommission_date'],axis=1)"
   ]
  },
  {
   "cell_type": "code",
   "execution_count": 172,
   "metadata": {},
   "outputs": [
    {
     "name": "stdout",
     "output_type": "stream",
     "text": [
      "<class 'pandas.core.frame.DataFrame'>\n",
      "Int64Index: 54 entries, 0 to 57\n",
      "Data columns (total 6 columns):\n",
      "station_id           54 non-null object\n",
      "name                 54 non-null object\n",
      "lat                  54 non-null float64\n",
      "long                 54 non-null float64\n",
      "install_date         54 non-null object\n",
      "current_dockcount    54 non-null int64\n",
      "dtypes: float64(2), int64(1), object(3)\n",
      "memory usage: 3.0+ KB\n"
     ]
    }
   ],
   "source": [
    "#Information about the columns in the cleaned station_data Dataframe\n",
    "station_data.info()"
   ]
  },
  {
   "cell_type": "markdown",
   "metadata": {},
   "source": [
    "#### Exploring the Cleaned station_data Dataframe"
   ]
  },
  {
   "cell_type": "code",
   "execution_count": 173,
   "metadata": {},
   "outputs": [
    {
     "data": {
      "text/html": [
       "<div>\n",
       "<style>\n",
       "    .dataframe thead tr:only-child th {\n",
       "        text-align: right;\n",
       "    }\n",
       "\n",
       "    .dataframe thead th {\n",
       "        text-align: left;\n",
       "    }\n",
       "\n",
       "    .dataframe tbody tr th {\n",
       "        vertical-align: top;\n",
       "    }\n",
       "</style>\n",
       "<table border=\"1\" class=\"dataframe\">\n",
       "  <thead>\n",
       "    <tr style=\"text-align: right;\">\n",
       "      <th></th>\n",
       "      <th>station_id</th>\n",
       "      <th>name</th>\n",
       "      <th>lat</th>\n",
       "      <th>long</th>\n",
       "      <th>install_date</th>\n",
       "      <th>current_dockcount</th>\n",
       "    </tr>\n",
       "  </thead>\n",
       "  <tbody>\n",
       "    <tr>\n",
       "      <th>0</th>\n",
       "      <td>BT-01</td>\n",
       "      <td>3rd Ave &amp; Broad St</td>\n",
       "      <td>47.618418</td>\n",
       "      <td>-122.350964</td>\n",
       "      <td>10/13/2014</td>\n",
       "      <td>18</td>\n",
       "    </tr>\n",
       "    <tr>\n",
       "      <th>1</th>\n",
       "      <td>BT-03</td>\n",
       "      <td>2nd Ave &amp; Vine St</td>\n",
       "      <td>47.615829</td>\n",
       "      <td>-122.348564</td>\n",
       "      <td>10/13/2014</td>\n",
       "      <td>16</td>\n",
       "    </tr>\n",
       "    <tr>\n",
       "      <th>2</th>\n",
       "      <td>BT-04</td>\n",
       "      <td>6th Ave &amp; Blanchard St</td>\n",
       "      <td>47.616094</td>\n",
       "      <td>-122.341102</td>\n",
       "      <td>10/13/2014</td>\n",
       "      <td>16</td>\n",
       "    </tr>\n",
       "    <tr>\n",
       "      <th>3</th>\n",
       "      <td>BT-05</td>\n",
       "      <td>2nd Ave &amp; Blanchard St</td>\n",
       "      <td>47.613110</td>\n",
       "      <td>-122.344208</td>\n",
       "      <td>10/13/2014</td>\n",
       "      <td>14</td>\n",
       "    </tr>\n",
       "    <tr>\n",
       "      <th>4</th>\n",
       "      <td>CBD-03</td>\n",
       "      <td>7th Ave &amp; Union St</td>\n",
       "      <td>47.610731</td>\n",
       "      <td>-122.332447</td>\n",
       "      <td>10/13/2014</td>\n",
       "      <td>20</td>\n",
       "    </tr>\n",
       "  </tbody>\n",
       "</table>\n",
       "</div>"
      ],
      "text/plain": [
       "  station_id                    name        lat        long install_date  \\\n",
       "0      BT-01      3rd Ave & Broad St  47.618418 -122.350964   10/13/2014   \n",
       "1      BT-03       2nd Ave & Vine St  47.615829 -122.348564   10/13/2014   \n",
       "2      BT-04  6th Ave & Blanchard St  47.616094 -122.341102   10/13/2014   \n",
       "3      BT-05  2nd Ave & Blanchard St  47.613110 -122.344208   10/13/2014   \n",
       "4     CBD-03      7th Ave & Union St  47.610731 -122.332447   10/13/2014   \n",
       "\n",
       "   current_dockcount  \n",
       "0                 18  \n",
       "1                 16  \n",
       "2                 16  \n",
       "3                 14  \n",
       "4                 20  "
      ]
     },
     "execution_count": 173,
     "metadata": {},
     "output_type": "execute_result"
    }
   ],
   "source": [
    "#The first five rows of the cleaned Dataframe\n",
    "station_data.head(5)"
   ]
  },
  {
   "cell_type": "markdown",
   "metadata": {},
   "source": [
    "### W.2 Cleaning the Trip Dataset"
   ]
  },
  {
   "cell_type": "markdown",
   "metadata": {},
   "source": [
    "The trip dataset contains some null values only in 2 columns, namely 'gender' and 'birthyear'. Furthermore these null values only occur when the trip belongs to Short Term Passholder , which ranges from a 24 hour pass or a 3 day pass as offered by Pronto as compared to a trip made by someone who is a Member, which could be a monthly subscription or a yearly one to the Pronto Cycle Share.\n",
    "\n",
    "For the purpose of cleaning the null values and for a more precise analysis, I will split the trip data set on the basis of the client being a Member or a Temporary Pass Holder into 2 separate datasets. "
   ]
  },
  {
   "cell_type": "code",
   "execution_count": 174,
   "metadata": {},
   "outputs": [
    {
     "name": "stdout",
     "output_type": "stream",
     "text": [
      "<class 'pandas.core.frame.DataFrame'>\n",
      "RangeIndex: 286857 entries, 0 to 286856\n",
      "Data columns (total 12 columns):\n",
      "trip_id              286857 non-null int64\n",
      "starttime            286857 non-null object\n",
      "stoptime             286857 non-null object\n",
      "bikeid               286857 non-null object\n",
      "tripduration         286857 non-null float64\n",
      "from_station_name    286857 non-null object\n",
      "to_station_name      286857 non-null object\n",
      "from_station_id      286857 non-null object\n",
      "to_station_id        286857 non-null object\n",
      "usertype             286857 non-null object\n",
      "gender               181557 non-null object\n",
      "birthyear            181553 non-null float64\n",
      "dtypes: float64(2), int64(1), object(9)\n",
      "memory usage: 26.3+ MB\n"
     ]
    }
   ],
   "source": [
    "#Information about the various columns in the trip_data Dataframe\n",
    "trip_data.info()"
   ]
  },
  {
   "cell_type": "markdown",
   "metadata": {},
   "source": [
    "**The trip dataset contains 181,557 trips where the user was a member and 105,300 trips where the user was a Short Term Pass Holder.**"
   ]
  },
  {
   "cell_type": "code",
   "execution_count": 162,
   "metadata": {},
   "outputs": [
    {
     "data": {
      "text/plain": [
       "Member                    181557\n",
       "Short-Term Pass Holder    105300\n",
       "Name: usertype, dtype: int64"
      ]
     },
     "execution_count": 162,
     "metadata": {},
     "output_type": "execute_result"
    }
   ],
   "source": [
    "#Counting the number of member and short_term pass holder trips in the dataset\n",
    "trip_data['usertype'].value_counts()"
   ]
  },
  {
   "cell_type": "markdown",
   "metadata": {},
   "source": [
    "**To create the member only dataset, I will:**\n",
    "\n",
    "- **Extract all the rows from the original trip dataset where the column usertype contains the value 'Member'and store it in separate dataset.**\n",
    "\n",
    "\n",
    "- **Drop any rows with null value in gender or birthyear column if any remain.**\n",
    "\n",
    "\n",
    "- **Drop the usertype column entirely as it has become redundant for this dataset.**"
   ]
  },
  {
   "cell_type": "code",
   "execution_count": 181,
   "metadata": {},
   "outputs": [],
   "source": [
    "#Extracting information about only the member trips and storing them in a separate Dataframe\n",
    "member_only = trip_data['usertype'] == 'Member'\n",
    "member_trip_data = trip_data.loc[member_only]\n",
    "\n",
    "#Dropping the 4 rows with missing values in the birthyear column from the member trip data set\n",
    "birthyear_present = member_trip_data['birthyear'].notnull()\n",
    "member_trip_data = member_trip_data.loc[birthyear_present]"
   ]
  },
  {
   "cell_type": "code",
   "execution_count": 187,
   "metadata": {},
   "outputs": [],
   "source": [
    "#Removing the usertype column from the member trip data set since it is redundant \n",
    "member_trip_data = member_trip_data.drop(['usertype'],axis = 1)"
   ]
  },
  {
   "cell_type": "markdown",
   "metadata": {},
   "source": [
    "**The new dataset 'member_trip_data' does not contain any null values in any of it's columns.**"
   ]
  },
  {
   "cell_type": "code",
   "execution_count": 188,
   "metadata": {},
   "outputs": [
    {
     "name": "stdout",
     "output_type": "stream",
     "text": [
      "<class 'pandas.core.frame.DataFrame'>\n",
      "Int64Index: 181553 entries, 0 to 286848\n",
      "Data columns (total 11 columns):\n",
      "trip_id              181553 non-null int64\n",
      "starttime            181553 non-null object\n",
      "stoptime             181553 non-null object\n",
      "bikeid               181553 non-null object\n",
      "tripduration         181553 non-null float64\n",
      "from_station_name    181553 non-null object\n",
      "to_station_name      181553 non-null object\n",
      "from_station_id      181553 non-null object\n",
      "to_station_id        181553 non-null object\n",
      "gender               181553 non-null object\n",
      "birthyear            181553 non-null float64\n",
      "dtypes: float64(2), int64(1), object(8)\n",
      "memory usage: 16.6+ MB\n"
     ]
    }
   ],
   "source": [
    "member_trip_data.info()"
   ]
  },
  {
   "cell_type": "code",
   "execution_count": 189,
   "metadata": {},
   "outputs": [
    {
     "data": {
      "text/html": [
       "<div>\n",
       "<style>\n",
       "    .dataframe thead tr:only-child th {\n",
       "        text-align: right;\n",
       "    }\n",
       "\n",
       "    .dataframe thead th {\n",
       "        text-align: left;\n",
       "    }\n",
       "\n",
       "    .dataframe tbody tr th {\n",
       "        vertical-align: top;\n",
       "    }\n",
       "</style>\n",
       "<table border=\"1\" class=\"dataframe\">\n",
       "  <thead>\n",
       "    <tr style=\"text-align: right;\">\n",
       "      <th></th>\n",
       "      <th>trip_id</th>\n",
       "      <th>starttime</th>\n",
       "      <th>stoptime</th>\n",
       "      <th>bikeid</th>\n",
       "      <th>tripduration</th>\n",
       "      <th>from_station_name</th>\n",
       "      <th>to_station_name</th>\n",
       "      <th>from_station_id</th>\n",
       "      <th>to_station_id</th>\n",
       "      <th>gender</th>\n",
       "      <th>birthyear</th>\n",
       "    </tr>\n",
       "  </thead>\n",
       "  <tbody>\n",
       "    <tr>\n",
       "      <th>0</th>\n",
       "      <td>431</td>\n",
       "      <td>10/13/2014 10:31</td>\n",
       "      <td>10/13/2014 10:48</td>\n",
       "      <td>SEA00298</td>\n",
       "      <td>985.935</td>\n",
       "      <td>2nd Ave &amp; Spring St</td>\n",
       "      <td>Occidental Park / Occidental Ave S &amp; S Washing...</td>\n",
       "      <td>CBD-06</td>\n",
       "      <td>PS-04</td>\n",
       "      <td>Male</td>\n",
       "      <td>1960.0</td>\n",
       "    </tr>\n",
       "    <tr>\n",
       "      <th>1</th>\n",
       "      <td>432</td>\n",
       "      <td>10/13/2014 10:32</td>\n",
       "      <td>10/13/2014 10:48</td>\n",
       "      <td>SEA00195</td>\n",
       "      <td>926.375</td>\n",
       "      <td>2nd Ave &amp; Spring St</td>\n",
       "      <td>Occidental Park / Occidental Ave S &amp; S Washing...</td>\n",
       "      <td>CBD-06</td>\n",
       "      <td>PS-04</td>\n",
       "      <td>Male</td>\n",
       "      <td>1970.0</td>\n",
       "    </tr>\n",
       "    <tr>\n",
       "      <th>2</th>\n",
       "      <td>433</td>\n",
       "      <td>10/13/2014 10:33</td>\n",
       "      <td>10/13/2014 10:48</td>\n",
       "      <td>SEA00486</td>\n",
       "      <td>883.831</td>\n",
       "      <td>2nd Ave &amp; Spring St</td>\n",
       "      <td>Occidental Park / Occidental Ave S &amp; S Washing...</td>\n",
       "      <td>CBD-06</td>\n",
       "      <td>PS-04</td>\n",
       "      <td>Female</td>\n",
       "      <td>1988.0</td>\n",
       "    </tr>\n",
       "    <tr>\n",
       "      <th>3</th>\n",
       "      <td>434</td>\n",
       "      <td>10/13/2014 10:34</td>\n",
       "      <td>10/13/2014 10:48</td>\n",
       "      <td>SEA00333</td>\n",
       "      <td>865.937</td>\n",
       "      <td>2nd Ave &amp; Spring St</td>\n",
       "      <td>Occidental Park / Occidental Ave S &amp; S Washing...</td>\n",
       "      <td>CBD-06</td>\n",
       "      <td>PS-04</td>\n",
       "      <td>Female</td>\n",
       "      <td>1977.0</td>\n",
       "    </tr>\n",
       "    <tr>\n",
       "      <th>4</th>\n",
       "      <td>435</td>\n",
       "      <td>10/13/2014 10:34</td>\n",
       "      <td>10/13/2014 10:49</td>\n",
       "      <td>SEA00202</td>\n",
       "      <td>923.923</td>\n",
       "      <td>2nd Ave &amp; Spring St</td>\n",
       "      <td>Occidental Park / Occidental Ave S &amp; S Washing...</td>\n",
       "      <td>CBD-06</td>\n",
       "      <td>PS-04</td>\n",
       "      <td>Male</td>\n",
       "      <td>1971.0</td>\n",
       "    </tr>\n",
       "  </tbody>\n",
       "</table>\n",
       "</div>"
      ],
      "text/plain": [
       "   trip_id         starttime          stoptime    bikeid  tripduration  \\\n",
       "0      431  10/13/2014 10:31  10/13/2014 10:48  SEA00298       985.935   \n",
       "1      432  10/13/2014 10:32  10/13/2014 10:48  SEA00195       926.375   \n",
       "2      433  10/13/2014 10:33  10/13/2014 10:48  SEA00486       883.831   \n",
       "3      434  10/13/2014 10:34  10/13/2014 10:48  SEA00333       865.937   \n",
       "4      435  10/13/2014 10:34  10/13/2014 10:49  SEA00202       923.923   \n",
       "\n",
       "     from_station_name                                    to_station_name  \\\n",
       "0  2nd Ave & Spring St  Occidental Park / Occidental Ave S & S Washing...   \n",
       "1  2nd Ave & Spring St  Occidental Park / Occidental Ave S & S Washing...   \n",
       "2  2nd Ave & Spring St  Occidental Park / Occidental Ave S & S Washing...   \n",
       "3  2nd Ave & Spring St  Occidental Park / Occidental Ave S & S Washing...   \n",
       "4  2nd Ave & Spring St  Occidental Park / Occidental Ave S & S Washing...   \n",
       "\n",
       "  from_station_id to_station_id  gender  birthyear  \n",
       "0          CBD-06         PS-04    Male     1960.0  \n",
       "1          CBD-06         PS-04    Male     1970.0  \n",
       "2          CBD-06         PS-04  Female     1988.0  \n",
       "3          CBD-06         PS-04  Female     1977.0  \n",
       "4          CBD-06         PS-04    Male     1971.0  "
      ]
     },
     "execution_count": 189,
     "metadata": {},
     "output_type": "execute_result"
    }
   ],
   "source": [
    "member_trip_data.head(5)"
   ]
  },
  {
   "cell_type": "markdown",
   "metadata": {},
   "source": [
    "** Since the dataset does not contain gender and birthyear data for the trips taken by non members and so these columns only contain null values. To get a clean dataset for Temporary Pass Holders, I will:**\n",
    "\n",
    "- **Extract all the rows from the original trip dataset where the usertype column contains the value 'Temporary Pass Holder'**\n",
    "\n",
    "\n",
    "- **Drop birthname and gender column completely as they only contain null values for non members** \n",
    "\n",
    "\n",
    "- **Drop the usertype column as it has become redundant for this dataset**"
   ]
  },
  {
   "cell_type": "code",
   "execution_count": 197,
   "metadata": {},
   "outputs": [],
   "source": [
    "#Extracting the information about the Short Term Pass Holder trips and storing them in a separate Dataframe \n",
    "pholder_only = trip_data['usertype'] == 'Short-Term Pass Holder'\n",
    "pholder_trip_data = trip_data.loc[pholder_only]"
   ]
  },
  {
   "cell_type": "code",
   "execution_count": 194,
   "metadata": {
    "collapsed": true
   },
   "outputs": [],
   "source": [
    "#Dropping the colums containing all null values in the pass holder and the usertype column which has become redundant \n",
    "pholder_trip_data = pholder_trip_data.drop(['usertype','gender','birthyear'],axis = 1)"
   ]
  },
  {
   "cell_type": "markdown",
   "metadata": {},
   "source": [
    "**The new datset 'pholder_trip_data' does not contain any null values in any of it's columns**"
   ]
  },
  {
   "cell_type": "code",
   "execution_count": 198,
   "metadata": {},
   "outputs": [
    {
     "name": "stdout",
     "output_type": "stream",
     "text": [
      "<class 'pandas.core.frame.DataFrame'>\n",
      "Int64Index: 105300 entries, 69 to 286856\n",
      "Data columns (total 9 columns):\n",
      "trip_id              105300 non-null int64\n",
      "starttime            105300 non-null object\n",
      "stoptime             105300 non-null object\n",
      "bikeid               105300 non-null object\n",
      "tripduration         105300 non-null float64\n",
      "from_station_name    105300 non-null object\n",
      "to_station_name      105300 non-null object\n",
      "from_station_id      105300 non-null object\n",
      "to_station_id        105300 non-null object\n",
      "dtypes: float64(1), int64(1), object(7)\n",
      "memory usage: 8.0+ MB\n"
     ]
    }
   ],
   "source": [
    "pholder_trip_data.info()"
   ]
  },
  {
   "cell_type": "code",
   "execution_count": 196,
   "metadata": {},
   "outputs": [
    {
     "data": {
      "text/html": [
       "<div>\n",
       "<style>\n",
       "    .dataframe thead tr:only-child th {\n",
       "        text-align: right;\n",
       "    }\n",
       "\n",
       "    .dataframe thead th {\n",
       "        text-align: left;\n",
       "    }\n",
       "\n",
       "    .dataframe tbody tr th {\n",
       "        vertical-align: top;\n",
       "    }\n",
       "</style>\n",
       "<table border=\"1\" class=\"dataframe\">\n",
       "  <thead>\n",
       "    <tr style=\"text-align: right;\">\n",
       "      <th></th>\n",
       "      <th>trip_id</th>\n",
       "      <th>starttime</th>\n",
       "      <th>stoptime</th>\n",
       "      <th>bikeid</th>\n",
       "      <th>tripduration</th>\n",
       "      <th>from_station_name</th>\n",
       "      <th>to_station_name</th>\n",
       "      <th>from_station_id</th>\n",
       "      <th>to_station_id</th>\n",
       "    </tr>\n",
       "  </thead>\n",
       "  <tbody>\n",
       "    <tr>\n",
       "      <th>69</th>\n",
       "      <td>507</td>\n",
       "      <td>10/13/2014 12:11</td>\n",
       "      <td>10/13/2014 12:16</td>\n",
       "      <td>SEA00321</td>\n",
       "      <td>332.457</td>\n",
       "      <td>City Hall / 4th Ave &amp; James St</td>\n",
       "      <td>City Hall / 4th Ave &amp; James St</td>\n",
       "      <td>CBD-07</td>\n",
       "      <td>CBD-07</td>\n",
       "    </tr>\n",
       "    <tr>\n",
       "      <th>78</th>\n",
       "      <td>518</td>\n",
       "      <td>10/13/2014 12:20</td>\n",
       "      <td>10/13/2014 12:31</td>\n",
       "      <td>SEA00321</td>\n",
       "      <td>690.793</td>\n",
       "      <td>City Hall / 4th Ave &amp; James St</td>\n",
       "      <td>2nd Ave &amp; Blanchard St</td>\n",
       "      <td>CBD-07</td>\n",
       "      <td>BT-05</td>\n",
       "    </tr>\n",
       "    <tr>\n",
       "      <th>89</th>\n",
       "      <td>530</td>\n",
       "      <td>10/13/2014 12:43</td>\n",
       "      <td>10/13/2014 12:48</td>\n",
       "      <td>SEA00311</td>\n",
       "      <td>278.849</td>\n",
       "      <td>King Street Station Plaza / 2nd Ave Extension ...</td>\n",
       "      <td>King Street Station Plaza / 2nd Ave Extension ...</td>\n",
       "      <td>PS-05</td>\n",
       "      <td>PS-05</td>\n",
       "    </tr>\n",
       "    <tr>\n",
       "      <th>91</th>\n",
       "      <td>533</td>\n",
       "      <td>10/13/2014 12:48</td>\n",
       "      <td>10/13/2014 12:51</td>\n",
       "      <td>SEA00269</td>\n",
       "      <td>179.939</td>\n",
       "      <td>NE 42nd St &amp; University Way NE</td>\n",
       "      <td>12th Ave &amp; NE Campus Pkwy</td>\n",
       "      <td>UD-02</td>\n",
       "      <td>UD-04</td>\n",
       "    </tr>\n",
       "    <tr>\n",
       "      <th>92</th>\n",
       "      <td>534</td>\n",
       "      <td>10/13/2014 12:48</td>\n",
       "      <td>10/13/2014 12:58</td>\n",
       "      <td>SEA00355</td>\n",
       "      <td>590.698</td>\n",
       "      <td>9th Ave N &amp; Mercer St</td>\n",
       "      <td>Dexter Ave &amp; Denny Way</td>\n",
       "      <td>DPD-01</td>\n",
       "      <td>SLU-18</td>\n",
       "    </tr>\n",
       "  </tbody>\n",
       "</table>\n",
       "</div>"
      ],
      "text/plain": [
       "    trip_id         starttime          stoptime    bikeid  tripduration  \\\n",
       "69      507  10/13/2014 12:11  10/13/2014 12:16  SEA00321       332.457   \n",
       "78      518  10/13/2014 12:20  10/13/2014 12:31  SEA00321       690.793   \n",
       "89      530  10/13/2014 12:43  10/13/2014 12:48  SEA00311       278.849   \n",
       "91      533  10/13/2014 12:48  10/13/2014 12:51  SEA00269       179.939   \n",
       "92      534  10/13/2014 12:48  10/13/2014 12:58  SEA00355       590.698   \n",
       "\n",
       "                                    from_station_name  \\\n",
       "69                     City Hall / 4th Ave & James St   \n",
       "78                     City Hall / 4th Ave & James St   \n",
       "89  King Street Station Plaza / 2nd Ave Extension ...   \n",
       "91                     NE 42nd St & University Way NE   \n",
       "92                              9th Ave N & Mercer St   \n",
       "\n",
       "                                      to_station_name from_station_id  \\\n",
       "69                     City Hall / 4th Ave & James St          CBD-07   \n",
       "78                             2nd Ave & Blanchard St          CBD-07   \n",
       "89  King Street Station Plaza / 2nd Ave Extension ...           PS-05   \n",
       "91                          12th Ave & NE Campus Pkwy           UD-02   \n",
       "92                             Dexter Ave & Denny Way          DPD-01   \n",
       "\n",
       "   to_station_id  \n",
       "69        CBD-07  \n",
       "78         BT-05  \n",
       "89         PS-05  \n",
       "91         UD-04  \n",
       "92        SLU-18  "
      ]
     },
     "execution_count": 196,
     "metadata": {},
     "output_type": "execute_result"
    }
   ],
   "source": [
    "pholder_trip_data.head(5)"
   ]
  },
  {
   "cell_type": "markdown",
   "metadata": {},
   "source": [
    "## E. Exploratory Analysis & Story Telling"
   ]
  },
  {
   "cell_type": "code",
   "execution_count": null,
   "metadata": {
    "collapsed": true
   },
   "outputs": [],
   "source": []
  }
 ],
 "metadata": {
  "kernelspec": {
   "display_name": "Python 3",
   "language": "python",
   "name": "python3"
  },
  "language_info": {
   "codemirror_mode": {
    "name": "ipython",
    "version": 3
   },
   "file_extension": ".py",
   "mimetype": "text/x-python",
   "name": "python",
   "nbconvert_exporter": "python",
   "pygments_lexer": "ipython3",
   "version": "3.6.3"
  }
 },
 "nbformat": 4,
 "nbformat_minor": 2
}
